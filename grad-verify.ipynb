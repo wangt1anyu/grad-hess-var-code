{
 "cells": [
  {
   "cell_type": "code",
   "execution_count": 1,
   "metadata": {},
   "outputs": [],
   "source": [
    "import numpy as np \n",
    "from scipy import optimize\n",
    "from scipy.optimize import NonlinearConstraint\n",
    "from scipy.optimize import minimize\n",
    "import os\n",
    "\n",
    "from tqdm import * \n",
    "import pickle\n",
    "\n",
    "import matplotlib.pyplot as plt \n",
    "%matplotlib inline "
   ]
  },
  {
   "cell_type": "code",
   "execution_count": 2,
   "metadata": {},
   "outputs": [],
   "source": [
    "def func(x): \n",
    "    \n",
    "    return np.sum( np.sin(x) ) + np.exp((x[0]-1) * (x[1]+2))  "
   ]
  },
  {
   "cell_type": "code",
   "execution_count": 3,
   "metadata": {},
   "outputs": [],
   "source": [
    "def sample_stiefel(n,k): \n",
    "    \n",
    "    A = np.random.normal( 0, 1, (n, k) ) \n",
    "    \n",
    "    def normalize(v): \n",
    "        return v / np.sqrt(v.dot(v)) \n",
    "\n",
    "    n = A.shape[1] \n",
    "\n",
    "    A[:, 0] = normalize(A[:, 0])  \n",
    "\n",
    "    for i in range(1, n): \n",
    "        Ai = A[:, i] \n",
    "        for j in range(0, i): \n",
    "            Aj = A[:, j] \n",
    "            t = Ai.dot(Aj) \n",
    "            Ai = Ai - t * Aj \n",
    "        A[:, i] = normalize(Ai) \n",
    "        \n",
    "    return A "
   ]
  },
  {
   "cell_type": "markdown",
   "metadata": {},
   "source": [
    "# our method, Stiefel's sampling"
   ]
  },
  {
   "cell_type": "code",
   "execution_count": 4,
   "metadata": {},
   "outputs": [],
   "source": [
    "###### \n",
    "def stiefel( x, delta, k, n = 500 ): \n",
    "\n",
    "    V = sample_stiefel(n,k) \n",
    "\n",
    "    gs = [ n/delta/2 * ( func( x + delta * V[:,i]) - func( x - delta * V[:,i]) ) * V[:,i] for i in range(k) ] \n",
    "\n",
    "    g = np.mean( np.array( gs ) , axis = 0 ) \n",
    "    \n",
    "    return g"
   ]
  },
  {
   "cell_type": "code",
   "execution_count": null,
   "metadata": {},
   "outputs": [],
   "source": [
    "# delta = 0.01; \n",
    "n = 500; rep = 10\n",
    "\n",
    "xs = [np.array([0]*500), np.array([np.pi/4.]*500) ] \n",
    "\n",
    "deltas = [ 0.1, 0.01, 0.001 ] \n",
    "\n",
    "for i in range(len(xs)):\n",
    "    \n",
    "    x = xs[i]\n",
    "    \n",
    "    truth = (np.array( np.cos(x) ) + np.array( [(x[1] + 2)* np.exp( (x[0]-1)*(x[1]+2) ) \n",
    "                                                 , (x[0] - 1)* np.exp( (x[0]-1)*(x[1]+2) ) ] + [0]*(n-2) ) ) \n",
    "    \n",
    "    for delta in deltas: \n",
    "\n",
    "        res = [] \n",
    "        \n",
    "        for _ in range(rep): \n",
    "            \n",
    "            res_inner = []\n",
    "\n",
    "            for k in range(1,n+1): \n",
    "\n",
    "                V = sample_stiefel(n,k) \n",
    "\n",
    "                gs = [ n/delta/2 * ( func( x + delta * V[:,i]) - func( x - delta * V[:,i]) ) * V[:,i] for i in range(k) ] \n",
    "\n",
    "                g = np.mean( np.array( gs ) , axis = 0 ) \n",
    "                \n",
    "                error = np.linalg.norm( g - truth )\n",
    "\n",
    "                res_inner.append(error) \n",
    "                \n",
    "            res.append(res_inner) \n",
    "            \n",
    "        pickle.dump( res, \n",
    "                            open('./raw_results/for_trend_x{0}_delta{1}'.format(i,delta), 'wb' ) ) \n",
    "            "
   ]
  },
  {
   "cell_type": "markdown",
   "metadata": {},
   "source": [
    "# plotting"
   ]
  },
  {
   "cell_type": "code",
   "execution_count": 3,
   "metadata": {},
   "outputs": [
    {
     "data": {
      "image/png": "[encoded data removed]",
      "text/plain": [
       "<Figure size 432x288 with 1 Axes>"
      ]
     },
     "metadata": {
      "needs_background": "light"
     },
     "output_type": "display_data"
    }
   ],
   "source": [
    "delta = 0.01; n = 500; rep = 10\n",
    "\n",
    "xs = [np.array([0]*500), np.array([np.pi/4.]*500) ] \n",
    "\n",
    "deltas = [ 0.1, 0.01, 0.001 ] \n",
    "\n",
    "for i in range(len(xs)):\n",
    "    \n",
    "    x = xs[i]\n",
    "    \n",
    "    truth = (np.array( np.cos(x) ) + np.array( [(x[1] + 2)* np.exp( (x[0]-1)*(x[1]+2) ) \n",
    "                                                 , (x[0] - 1)* np.exp( (x[0]-1)*(x[1]+2) ) ] + [0]*(n-2) ) ) \n",
    "    \n",
    "    for delta in deltas: \n",
    "            \n",
    "        res = pickle.load( open('./raw_results/for_trend_x{0}_delta{1}'.format(i,delta), 'rb' ) ) \n",
    "            \n",
    "        theory_var_curve = ( np.array([np.linalg.norm( truth )**2 *(n/k - 1) for k in range(1,n+1) ] )\n",
    "                   +\\\n",
    "            np.array([delta**2 * np.linalg.norm( truth ) *( (n**2 - n*k) / (k**2) ) for k in range(1,n+1) ] ) \\\n",
    "                   +\\\n",
    "            delta**4 * n**2 / np.array( range(1,n+1) ) ) \n",
    "    \n",
    "        \n",
    "        plt.rcParams['font.size'] = 14\n",
    "        \n",
    "        \n",
    "        error = np.mean( res, axis = 0 )\n",
    "        std = 10* np.std( res, axis = 0 )\n",
    "\n",
    "        err, = plt.plot( np.log10( np.array( error ) )[:], label = 'lg of error' ) \n",
    "        plt.fill_between( range(n), np.log10( error ) , \n",
    "                         np.log10( error + std ) , alpha = 0.4)\n",
    "        \n",
    "        var_bound, = plt.plot( np.log10( np.array( theory_var_curve ) )[:], linestyle = 'dashed', color = 'red', \n",
    "                              label = 'lg of var. bound' ) \n",
    "        \n",
    "#         plt.ticklabel_format(axis='both', style='sci', scilimits=(4,4))\n",
    "\n",
    "        plt.xlabel('$k$') \n",
    "        # plt.ylabel('log of error or sqrt. of variance') \n",
    "\n",
    "        plt.legend(handles = [err,var_bound], loc = 'lower left') \n",
    "\n",
    "        plt.tight_layout() \n",
    "#         plt.show() \n",
    "\n",
    "        plt.savefig('./figures/var_trend_x{0}_delta{1}.png'.format(i,delta), dpi = 150) \n",
    "    \n",
    "        plt.cla() "
   ]
  },
  {
   "cell_type": "code",
   "execution_count": 7,
   "metadata": {},
   "outputs": [
    {
     "data": {
      "text/plain": [
       "array([2.68043369e+02, 1.71065336e+02, 1.65980414e+02, 1.47196315e+02,\n",
       "       1.33065860e+02, 1.53982036e+02, 1.15111352e+02, 1.18204394e+02,\n",
       "       1.07149950e+02, 1.08752348e+02, 9.39433797e+01, 9.75360033e+01,\n",
       "       8.63835301e+01, 9.58489290e+01, 8.82841643e+01, 8.46121800e+01,\n",
       "       8.98990120e+01, 7.81134772e+01, 7.98757633e+01, 7.77447570e+01,\n",
       "       8.03358592e+01, 6.58485722e+01, 7.33803890e+01, 7.07254469e+01,\n",
       "       7.54755012e+01, 6.52438293e+01, 6.83356711e+01, 6.17272421e+01,\n",
       "       6.69699323e+01, 6.24314977e+01, 6.09889291e+01, 5.75215237e+01,\n",
       "       5.91073529e+01, 5.76536215e+01, 5.80707823e+01, 5.70321484e+01,\n",
       "       5.28949545e+01, 5.64971690e+01, 5.40689894e+01, 5.36856213e+01,\n",
       "       5.23410663e+01, 5.38269424e+01, 4.99493767e+01, 5.28611476e+01,\n",
       "       4.98551383e+01, 4.83130931e+01, 5.13349616e+01, 4.93793589e+01,\n",
       "       4.94612255e+01, 4.57091608e+01, 4.88893977e+01, 4.73609696e+01,\n",
       "       4.41689295e+01, 4.67217285e+01, 4.58787124e+01, 4.70889461e+01,\n",
       "       4.36496066e+01, 4.45953926e+01, 4.24087116e+01, 4.28883231e+01,\n",
       "       4.20800093e+01, 4.21432009e+01, 4.21653335e+01, 4.07876234e+01,\n",
       "       4.12668655e+01, 4.00628539e+01, 4.03143596e+01, 3.85516561e+01,\n",
       "       4.05000123e+01, 3.96753100e+01, 3.89529004e+01, 3.85834223e+01,\n",
       "       3.89536838e+01, 3.84516663e+01, 3.76146491e+01, 3.87306081e+01,\n",
       "       3.77143733e+01, 3.69899690e+01, 3.72308354e+01, 3.64145773e+01,\n",
       "       3.63020553e+01, 3.59130396e+01, 3.59318505e+01, 3.46139262e+01,\n",
       "       3.59423267e+01, 3.45298992e+01, 3.54460676e+01, 3.50717360e+01,\n",
       "       3.51382933e+01, 3.32967076e+01, 3.41556303e+01, 3.34205453e+01,\n",
       "       3.34913932e+01, 3.23483648e+01, 3.39019063e+01, 3.24702888e+01,\n",
       "       3.29158929e+01, 3.29085229e+01, 3.19975141e+01, 3.15011734e+01,\n",
       "       3.17223861e+01, 3.15387652e+01, 3.18485912e+01, 3.11456265e+01,\n",
       "       3.09863633e+01, 3.07155156e+01, 3.08121382e+01, 3.05271772e+01,\n",
       "       3.01302820e+01, 3.01507839e+01, 2.93076901e+01, 2.96659828e+01,\n",
       "       2.93157346e+01, 2.90139174e+01, 2.88607298e+01, 2.90723987e+01,\n",
       "       2.91348169e+01, 2.85926880e+01, 2.80374580e+01, 2.86673333e+01,\n",
       "       2.81382717e+01, 2.80057106e+01, 2.79633810e+01, 2.78469947e+01,\n",
       "       2.74836567e+01, 2.75540702e+01, 2.72649066e+01, 2.72858258e+01,\n",
       "       2.74626681e+01, 2.68301665e+01, 2.66018292e+01, 2.68728795e+01,\n",
       "       2.66496450e+01, 2.61436776e+01, 2.67761401e+01, 2.59628879e+01,\n",
       "       2.62290810e+01, 2.54085546e+01, 2.59450273e+01, 2.57997282e+01,\n",
       "       2.59129440e+01, 2.50306380e+01, 2.52411418e+01, 2.49323135e+01,\n",
       "       2.49181319e+01, 2.46800735e+01, 2.50010575e+01, 2.45327760e+01,\n",
       "       2.43077123e+01, 2.43096917e+01, 2.41817491e+01, 2.42494977e+01,\n",
       "       2.38126140e+01, 2.40938302e+01, 2.37618495e+01, 2.36671830e+01,\n",
       "       2.36879234e+01, 2.37968932e+01, 2.34194621e+01, 2.32992497e+01,\n",
       "       2.35330282e+01, 2.28754749e+01, 2.29505169e+01, 2.26759433e+01,\n",
       "       2.30819390e+01, 2.23856877e+01, 2.24595532e+01, 2.23091786e+01,\n",
       "       2.22493155e+01, 2.19548516e+01, 2.18802726e+01, 2.18446298e+01,\n",
       "       2.20294005e+01, 2.17510166e+01, 2.19193229e+01, 2.15623817e+01,\n",
       "       2.15543283e+01, 2.12508610e+01, 2.12389327e+01, 2.11276452e+01,\n",
       "       2.12688306e+01, 2.11851227e+01, 2.10891836e+01, 2.08668247e+01,\n",
       "       2.08182763e+01, 2.08165719e+01, 2.04709370e+01, 2.03336815e+01,\n",
       "       2.05264286e+01, 2.02807752e+01, 2.02951205e+01, 2.04298830e+01,\n",
       "       2.00876322e+01, 1.99262381e+01, 1.99248151e+01, 1.98046918e+01,\n",
       "       1.98336190e+01, 1.98007782e+01, 1.94982784e+01, 1.96301701e+01,\n",
       "       1.94137776e+01, 1.93997100e+01, 1.93111040e+01, 1.91950771e+01,\n",
       "       1.91789837e+01, 1.90091415e+01, 1.90992957e+01, 1.88339393e+01,\n",
       "       1.88059131e+01, 1.86666015e+01, 1.86151610e+01, 1.86071038e+01,\n",
       "       1.85410053e+01, 1.83225531e+01, 1.84389512e+01, 1.83996060e+01,\n",
       "       1.82484864e+01, 1.81230129e+01, 1.80919008e+01, 1.79839341e+01,\n",
       "       1.78815604e+01, 1.78042054e+01, 1.78567040e+01, 1.77132213e+01,\n",
       "       1.76457000e+01, 1.75435656e+01, 1.74598151e+01, 1.73749864e+01,\n",
       "       1.73254372e+01, 1.72815637e+01, 1.71638657e+01, 1.72230783e+01,\n",
       "       1.70958850e+01, 1.69863850e+01, 1.69455129e+01, 1.68561543e+01,\n",
       "       1.67673439e+01, 1.67212770e+01, 1.66557958e+01, 1.65941848e+01,\n",
       "       1.65448049e+01, 1.64784288e+01, 1.64101295e+01, 1.63402429e+01,\n",
       "       1.62799160e+01, 1.62047876e+01, 1.61423992e+01, 1.60774907e+01,\n",
       "       1.60138520e+01, 1.59487004e+01, 1.58853151e+01, 1.58192391e+01,\n",
       "       1.57633806e+01, 1.57022814e+01, 1.56231578e+01, 1.55767213e+01,\n",
       "       1.55216900e+01, 1.54593161e+01, 1.53707860e+01, 1.53324936e+01,\n",
       "       1.52612041e+01, 1.51995322e+01, 1.51310914e+01, 1.50960138e+01,\n",
       "       1.50182070e+01, 1.49447482e+01, 1.48924854e+01, 1.48571910e+01,\n",
       "       1.47344726e+01, 1.46740688e+01, 1.46560354e+01, 1.46405159e+01,\n",
       "       1.45395655e+01, 1.44728826e+01, 1.44154899e+01, 1.42692184e+01,\n",
       "       1.43098005e+01, 1.42598697e+01, 1.42069905e+01, 1.41098068e+01,\n",
       "       1.41356225e+01, 1.39682384e+01, 1.39842971e+01, 1.39592576e+01,\n",
       "       1.38401122e+01, 1.37773955e+01, 1.37919886e+01, 1.37243744e+01,\n",
       "       1.35766111e+01, 1.34972174e+01, 1.34879662e+01, 1.34968898e+01,\n",
       "       1.33435365e+01, 1.32876014e+01, 1.33280018e+01, 1.32571428e+01,\n",
       "       1.32034969e+01, 1.30352558e+01, 1.31230174e+01, 1.29653884e+01,\n",
       "       1.30643298e+01, 1.29458778e+01, 1.29530252e+01, 1.27680106e+01,\n",
       "       1.26735179e+01, 1.26924383e+01, 1.26077135e+01, 1.25337861e+01,\n",
       "       1.24430567e+01, 1.25952278e+01, 1.24742785e+01, 1.23447457e+01,\n",
       "       1.24084402e+01, 1.22055756e+01, 1.22072158e+01, 1.21293605e+01,\n",
       "       1.20934291e+01, 1.20756786e+01, 1.20500809e+01, 1.18911472e+01,\n",
       "       1.19230169e+01, 1.19848272e+01, 1.17048755e+01, 1.18537750e+01,\n",
       "       1.17084250e+01, 1.15944757e+01, 1.14821751e+01, 1.15969117e+01,\n",
       "       1.14540497e+01, 1.13152810e+01, 1.13893985e+01, 1.13213527e+01,\n",
       "       1.12209311e+01, 1.13014504e+01, 1.11932714e+01, 1.11888482e+01,\n",
       "       1.11268648e+01, 1.09716908e+01, 1.10945808e+01, 1.11702474e+01,\n",
       "       1.08859675e+01, 1.08511458e+01, 1.06940949e+01, 1.07962458e+01,\n",
       "       1.07987079e+01, 1.07233617e+01, 1.06777370e+01, 1.06222375e+01,\n",
       "       1.06166804e+01, 1.04300888e+01, 1.02282416e+01, 1.02353265e+01,\n",
       "       1.03764485e+01, 1.02707610e+01, 1.01912387e+01, 1.02558801e+01,\n",
       "       9.97978594e+00, 1.00909500e+01, 1.00273628e+01, 9.99840594e+00,\n",
       "       9.85289173e+00, 9.70845165e+00, 9.58982277e+00, 9.74920115e+00,\n",
       "       9.64724499e+00, 9.41383879e+00, 9.70044773e+00, 9.42704512e+00,\n",
       "       9.64995236e+00, 9.48964446e+00, 9.48698357e+00, 9.38406185e+00,\n",
       "       9.35009107e+00, 9.22814217e+00, 9.10856384e+00, 9.12480407e+00,\n",
       "       9.19055211e+00, 9.07573874e+00, 8.87989060e+00, 9.06736371e+00,\n",
       "       8.96370376e+00, 8.74127706e+00, 8.82508364e+00, 8.76187496e+00,\n",
       "       8.83690435e+00, 8.72306407e+00, 8.54153186e+00, 8.76537341e+00,\n",
       "       8.51818833e+00, 8.62639889e+00, 8.77320876e+00, 8.39755684e+00,\n",
       "       8.17090542e+00, 8.57241708e+00, 8.16275181e+00, 8.14258788e+00,\n",
       "       8.12258333e+00, 8.06848090e+00, 7.92571092e+00, 8.19698978e+00,\n",
       "       8.07694702e+00, 7.86551296e+00, 7.53447206e+00, 7.60172896e+00,\n",
       "       7.70221216e+00, 7.85428913e+00, 7.65296011e+00, 7.69488778e+00,\n",
       "       7.65728541e+00, 7.34165430e+00, 7.59178155e+00, 7.26859113e+00,\n",
       "       7.45919527e+00, 7.30013760e+00, 7.11753715e+00, 7.11260849e+00,\n",
       "       7.05043255e+00, 7.08168130e+00, 7.00319529e+00, 7.00284380e+00,\n",
       "       6.90612354e+00, 6.73206245e+00, 6.78333558e+00, 6.71240040e+00,\n",
       "       6.58591068e+00, 6.58079197e+00, 6.33064848e+00, 6.51711643e+00,\n",
       "       6.51690778e+00, 6.32670472e+00, 6.29520174e+00, 6.44844263e+00,\n",
       "       6.30058279e+00, 6.11581997e+00, 6.15840329e+00, 6.05289409e+00,\n",
       "       6.07381447e+00, 6.02972857e+00, 5.88569011e+00, 5.96529304e+00,\n",
       "       5.78243816e+00, 5.60035407e+00, 5.79724435e+00, 5.71427290e+00,\n",
       "       5.62317275e+00, 5.41036060e+00, 5.65578661e+00, 5.41391054e+00,\n",
       "       5.23951567e+00, 5.04245991e+00, 5.22605957e+00, 5.18057941e+00,\n",
       "       5.21399012e+00, 4.72836470e+00, 4.80250219e+00, 5.25614266e+00,\n",
       "       4.82464141e+00, 4.90745909e+00, 4.63251628e+00, 4.60773257e+00,\n",
       "       4.67647553e+00, 4.55849959e+00, 4.31225969e+00, 4.55559628e+00,\n",
       "       4.27578562e+00, 4.18089622e+00, 4.13725919e+00, 4.31718086e+00,\n",
       "       3.71488054e+00, 3.80316462e+00, 3.98270465e+00, 3.67083498e+00,\n",
       "       3.86589131e+00, 3.76731796e+00, 3.63656573e+00, 3.64287810e+00,\n",
       "       3.39749217e+00, 3.71317541e+00, 3.39911445e+00, 3.27873369e+00,\n",
       "       3.36271249e+00, 2.73489512e+00, 2.87251377e+00, 2.86482254e+00,\n",
       "       2.42171227e+00, 2.60893484e+00, 2.58539513e+00, 2.37634544e+00,\n",
       "       2.40831054e+00, 2.23925651e+00, 1.87712027e+00, 1.98706527e+00,\n",
       "       1.99507181e+00, 1.80093672e+00, 1.51988995e+00, 1.15681736e+00,\n",
       "       9.97450919e-01, 6.26739110e-01, 4.56349811e-01, 2.54175583e-08])"
      ]
     },
     "execution_count": 7,
     "metadata": {},
     "output_type": "execute_result"
    }
   ],
   "source": [
    "np.mean( res, axis = 0 )"
   ]
  },
  {
   "cell_type": "code",
   "execution_count": null,
   "metadata": {},
   "outputs": [],
   "source": []
  },
  {
   "cell_type": "code",
   "execution_count": null,
   "metadata": {},
   "outputs": [],
   "source": []
  },
  {
   "cell_type": "code",
   "execution_count": null,
   "metadata": {},
   "outputs": [],
   "source": []
  },
  {
   "cell_type": "markdown",
   "metadata": {},
   "source": [
    "# below is test code"
   ]
  },
  {
   "cell_type": "code",
   "execution_count": 26,
   "metadata": {},
   "outputs": [
    {
     "data": {
      "image/png": "[encoded data removed]",
      "text/plain": [
       "<Figure size 432x288 with 1 Axes>"
      ]
     },
     "metadata": {
      "needs_background": "light"
     },
     "output_type": "display_data"
    }
   ],
   "source": [
    "n = 500; \n",
    "\n",
    "xs = [np.array([0]*n), np.array([np.pi/4.]*n), -np.array([np.pi/2.]*n) ] \n",
    "\n",
    "ks = [100, 200, 300, 400 ] \n",
    "\n",
    "deltas = [ 0.1, 0.01, 0.001 ] \n",
    "\n",
    "for k in ks: \n",
    "\n",
    "    for delta in deltas: \n",
    "\n",
    "        res1 = pickle.load( open('./raw_results/stiefel_errors_x{0}_delta{1}_k{2}'.format(0,delta,k), 'rb' ) )\n",
    "        res2 = pickle.load( open('./raw_results/stiefel_errors_x{0}_delta{1}_k{2}'.format(1,delta,k), 'rb' ) )\n",
    "        res3 = pickle.load( open('./raw_results/stiefel_errors_x{0}_delta{1}_k{2}'.format(2,delta,k), 'rb' ) )\n",
    "\n",
    "        plt.rcParams['font.size'] = 17 \n",
    "\n",
    "        plt.scatter( [1]*len(res1), res1, alpha = 0.4, s = 50 )\n",
    "            \n",
    "        plt.scatter( [2]*len(res2), res2, alpha = 0.4, s = 50 )\n",
    "\n",
    "        plt.scatter( [3]*len(res3), res3, alpha = 0.4, s = 50 ) \n",
    "\n",
    "        plt.xticks([1,2,3], ['$x = 0$', '$x = \\pi/4  \\cdot \\mathbf{1}$', '$x = -\\pi/2  \\cdot \\mathbf{1} $']) \n",
    "\n",
    "        plt.ylabel('Error') \n",
    "        \n",
    "        plt.tight_layout() \n",
    "        \n",
    "        plt.savefig('./figures/stiefel_only_k{0}_delta{1}.png'.format(k,delta), dpi = 150) \n",
    "        \n",
    "        plt.cla() \n",
    "        "
   ]
  },
  {
   "cell_type": "code",
   "execution_count": null,
   "metadata": {},
   "outputs": [],
   "source": []
  },
  {
   "cell_type": "code",
   "execution_count": null,
   "metadata": {},
   "outputs": [],
   "source": []
  },
  {
   "cell_type": "code",
   "execution_count": null,
   "metadata": {},
   "outputs": [],
   "source": []
  }
 ],
 "metadata": {
  "kernelspec": {
   "display_name": "Python 3",
   "language": "python",
   "name": "python3"
  },
  "language_info": {
   "codemirror_mode": {
    "name": "ipython",
    "version": 3
   },
   "file_extension": ".py",
   "mimetype": "text/x-python",
   "name": "python",
   "nbconvert_exporter": "python",
   "pygments_lexer": "ipython3",
   "version": "3.7.4"
  }
 },
 "nbformat": 4,
 "nbformat_minor": 2
}
