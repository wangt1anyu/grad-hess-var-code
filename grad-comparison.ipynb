{
 "cells": [
  {
   "cell_type": "code",
   "execution_count": 2,
   "metadata": {},
   "outputs": [],
   "source": [
    "import numpy as np \n",
    "from scipy import optimize\n",
    "from scipy.optimize import NonlinearConstraint\n",
    "from scipy.optimize import minimize\n",
    "import os\n",
    "\n",
    "from tqdm import * \n",
    "import pickle\n",
    "\n",
    "import matplotlib.pyplot as plt \n",
    "%matplotlib inline "
   ]
  },
  {
   "cell_type": "code",
   "execution_count": 3,
   "metadata": {},
   "outputs": [],
   "source": [
    "def sample_stiefel(n,k): \n",
    "    \n",
    "    A = np.random.normal( 0, 1, (n, k) ) \n",
    "    \n",
    "    def normalize(v): \n",
    "        return v / np.sqrt(v.dot(v)) \n",
    "\n",
    "    n = A.shape[1] \n",
    "\n",
    "    A[:, 0] = normalize(A[:, 0])  \n",
    "\n",
    "    for i in range(1, n): \n",
    "        Ai = A[:, i] \n",
    "        for j in range(0, i): \n",
    "            Aj = A[:, j] \n",
    "            t = Ai.dot(Aj) \n",
    "            Ai = Ai - t * Aj \n",
    "        A[:, i] = normalize(Ai) \n",
    "        \n",
    "    return A "
   ]
  },
  {
   "cell_type": "code",
   "execution_count": 4,
   "metadata": {},
   "outputs": [],
   "source": [
    "def func(x): \n",
    "    \n",
    "    return np.sum( np.sin(x) ) + np.exp((x[0]-1) * (x[1]+2))  "
   ]
  },
  {
   "cell_type": "markdown",
   "metadata": {},
   "source": [
    "# our method, Stiefel's sampling"
   ]
  },
  {
   "cell_type": "code",
   "execution_count": 5,
   "metadata": {},
   "outputs": [],
   "source": [
    "def stiefel( x, delta, k, n = 500 ): \n",
    "\n",
    "\n",
    "    V = sample_stiefel(n,k) \n",
    "\n",
    "    gs = [ n/delta/2 * ( func( x + delta * V[:,i]) - func( x - delta * V[:,i]) ) * V[:,i] for i in range(k) ] \n",
    "\n",
    "    g = np.mean( np.array( gs ) , axis = 0 ) \n",
    "    \n",
    "    return g"
   ]
  },
  {
   "cell_type": "markdown",
   "metadata": {},
   "source": [
    "# spherical method"
   ]
  },
  {
   "cell_type": "code",
   "execution_count": 6,
   "metadata": {},
   "outputs": [],
   "source": [
    "def spherical( x, delta, k, n = 500 ): \n",
    "   \n",
    "    gs = []\n",
    "    \n",
    "    for _ in range(k): \n",
    "        V = sample_stiefel(n,1)\n",
    "        gs.append( n/delta/2 * ( func( x + delta * V[:,0]) - func(x - delta * V[:,0]) ) * V[:,0] ) \n",
    "\n",
    "    g = np.mean( np.array( gs ) , axis = 0 ) \n",
    "    \n",
    "    return g"
   ]
  },
  {
   "cell_type": "markdown",
   "metadata": {},
   "source": [
    "# gaussian method"
   ]
  },
  {
   "cell_type": "code",
   "execution_count": 7,
   "metadata": {},
   "outputs": [],
   "source": [
    "def gaussian( x, delta, k, n = 500 ): \n",
    "    \n",
    "    V = np.random.normal(0,1,(n,k)) \n",
    "\n",
    "    gs = [ np.sqrt(n)/delta/2 * ( func( x + delta * V[:,i] / np.sqrt(n) ) \\\n",
    "                                 - func(x - delta * V[:,i] / np.sqrt(n) ) ) * V[:,i] for i in range(k) ] \n",
    "    \n",
    "    g = np.mean( np.array( gs ) , axis = 0 ) \n",
    "    \n",
    "    return g"
   ]
  },
  {
   "cell_type": "markdown",
   "metadata": {},
   "source": [
    "# rademacher"
   ]
  },
  {
   "cell_type": "code",
   "execution_count": 38,
   "metadata": {},
   "outputs": [],
   "source": [
    "def rademacher( x, delta, k, n = 500 ): \n",
    "   \n",
    "    gs = []\n",
    "    \n",
    "    ind = list(np.random.choice( np.array(range(n)), size = k, replace = False ))\n",
    "    \n",
    "    g = np.zeros(n)\n",
    "    \n",
    "    for i in range(n): \n",
    "        \n",
    "        if i in ind:\n",
    "            \n",
    "            rand = np.random.binomial(1, 0.5)\n",
    "            \n",
    "            if rand > 0.5:\n",
    "                \n",
    "                v = np.zeros(n)\n",
    "                v[i] = 1\n",
    "                \n",
    "                g[i] = 1/delta * ( func( x + delta* v ) - func(x) )\n",
    "                \n",
    "            else:\n",
    "                \n",
    "                v = np.zeros(n)\n",
    "                v[i] = -1\n",
    "                \n",
    "                g[i] = -1/delta * ( func( x + delta* v ) - func(x) )\n",
    "    \n",
    "    return g "
   ]
  },
  {
   "cell_type": "markdown",
   "metadata": {},
   "source": [
    "# comparison-based method"
   ]
  },
  {
   "cell_type": "code",
   "execution_count": 39,
   "metadata": {},
   "outputs": [],
   "source": [
    "def comp( x, delta, k, sparsity, n = 500 ): \n",
    "    \n",
    "#     zs = []\n",
    "#     Vs = []\n",
    "    Us = []\n",
    "    \n",
    "    for _ in range(k): \n",
    "        \n",
    "        V = sample_stiefel(n,1).T[0] \n",
    "#         Vs.append(V)\n",
    "    \n",
    "        C = np.sign( func (x + delta*V) - func (x) ) \n",
    "#         zs.append(C) \n",
    "        \n",
    "        Us.append(C * V)\n",
    "        \n",
    "#     from scipy import optimize\n",
    "#     from scipy.optimize import NonlinearConstraint\n",
    "#     from scipy.optimize import minimize\n",
    "        \n",
    "    con2 = lambda x: np.linalg.norm(x) \n",
    "    l2 = NonlinearConstraint(con2, -np.inf, 1)\n",
    "    con1 = lambda x: np.linalg.norm(x, ord = 1) \n",
    "    l1 = NonlinearConstraint(con1, -np.inf, np.sqrt(sparsity))\n",
    "    \n",
    "    def opt( u ): \n",
    "        \n",
    "        return - np.dot( np.sum( Us, axis = 0 ) , u )\n",
    "    \n",
    "    if (sparsity >= np.inf):\n",
    "    \n",
    "        g = minimize(opt, np.array( [0]*n ), constraints = l2, tol=1e-6)\n",
    "        \n",
    "    else: \n",
    "        \n",
    "        g = minimize(opt, np.array( [0]*n ), constraints = [l2,l1], tol=1e-6)\n",
    "        \n",
    "    \n",
    "    return g "
   ]
  },
  {
   "cell_type": "markdown",
   "metadata": {},
   "source": [
    "# comparison-based stiefel"
   ]
  },
  {
   "cell_type": "code",
   "execution_count": 40,
   "metadata": {},
   "outputs": [],
   "source": [
    "def comp_stiefel( x, delta, k, sparsity, n = 500 ): \n",
    "    \n",
    "#     zs = []\n",
    "#     Vs = [] \n",
    "    Us = []\n",
    "    \n",
    "    V = sample_stiefel(n,k)\n",
    "    \n",
    "    for m in range(k): \n",
    "#         Vs.append(V)\n",
    "    \n",
    "        C = np.sign( func (x + delta*V[:,m]) - func (x) ) \n",
    "#         zs.append(C) \n",
    "        \n",
    "        Us.append( C * V[:,m]) \n",
    "        \n",
    "#     from scipy import optimize\n",
    "#     from scipy.optimize import NonlinearConstraint\n",
    "#     from scipy.optimize import minimize\n",
    "        \n",
    "    con2 = lambda x: np.linalg.norm(x) \n",
    "    l2 = NonlinearConstraint(con2, -np.inf, 1)\n",
    "    con1 = lambda x: np.linalg.norm(x, ord = 1) \n",
    "    l1 = NonlinearConstraint(con1, -np.inf, np.sqrt(sparsity))\n",
    "    \n",
    "    def opt( u ): \n",
    "        \n",
    "        return - np.dot( np.sum( Us, axis = 0 ) , u )\n",
    "    \n",
    "    if (sparsity >= np.inf):\n",
    "    \n",
    "        g = minimize(opt, np.array( [0]*n ), constraints = l2, tol=1e-6)\n",
    "        \n",
    "    else: \n",
    "        \n",
    "        g = minimize(opt, np.array( [0]*n ), constraints = [l2,l1], tol=1e-6)\n",
    "        \n",
    "    \n",
    "    return g "
   ]
  },
  {
   "cell_type": "markdown",
   "metadata": {},
   "source": [
    "# entry-wise estimator"
   ]
  },
  {
   "cell_type": "code",
   "execution_count": 41,
   "metadata": {},
   "outputs": [],
   "source": [
    "def entry( x, delta, n = 500 ): \n",
    "    \n",
    "    g = []\n",
    "    \n",
    "    for i in range(n):\n",
    "        \n",
    "        ei = np.zeros(n)\n",
    "        ei[i] = 1\n",
    "        \n",
    "        gi = 1./2/delta * ( func (x + delta* ei) - func (x - delta* ei) )\n",
    "        \n",
    "        g.append(gi)\n",
    "    \n",
    "    return np.array(g) "
   ]
  },
  {
   "cell_type": "markdown",
   "metadata": {},
   "source": [
    "# comparison with existing stochastic methods"
   ]
  },
  {
   "cell_type": "code",
   "execution_count": 50,
   "metadata": {},
   "outputs": [],
   "source": [
    "n = 500\n",
    "\n",
    "xs = [np.array([0]*n), np.array([np.pi/4.]*n), - np.array([np.pi/2.]*n) ] \n",
    "\n",
    "deltas = [ 0.1, 0.01, 0.001 ] \n",
    "\n",
    "ks = [ 100,200,300,400,500 ] \n",
    "\n",
    "reps = 10 \n",
    "\n",
    "for i in range(len(xs)):\n",
    "    \n",
    "    x = xs[i]\n",
    "    \n",
    "    truth = (np.array( np.cos(x) ) + np.array( [(x[1] + 2)* np.exp( (x[0]-1)*(x[1]+2) ) \n",
    "                                                 , (x[0] - 1)* np.exp( (x[0]-1)*(x[1]+2) ) ] + [0]*(n-2) ) ) \n",
    "    \n",
    "    for delta in deltas:\n",
    "        \n",
    "        for k in ks: \n",
    "            \n",
    "            stiefel_errors = [] \n",
    "            spherical_errors = [] \n",
    "            gaussian_errors = []\n",
    "            \n",
    "            rademacher_errors = []\n",
    "            \n",
    "            stiefel_cos_sim = [] \n",
    "            \n",
    "            for _ in range(reps):\n",
    "                \n",
    "                stiefel_g = stiefel( x, delta, k ) \n",
    "                spherial_g = spherical( x, delta, k ) \n",
    "                gaussian_g = gaussian( x, delta, k )  \n",
    "                \n",
    "                rademacher_g = rademacher( x, delta, k )  \n",
    "                \n",
    "                stiefel_errors.append( np.linalg.norm( stiefel_g - truth )  )\n",
    "                spherical_errors.append( np.linalg.norm( spherial_g - truth )  )\n",
    "                gaussian_errors.append( np.linalg.norm( gaussian_g - truth )  )\n",
    "                \n",
    "                rademacher_errors.append( np.linalg.norm( rademacher_g - truth ) ) \n",
    "                \n",
    "                stiefel_cos_sim.append( np.dot( stiefel_g, truth ) \\\n",
    "                                       / np.linalg.norm( stiefel_g ) / np.linalg.norm(truth) )\n",
    "                \n",
    "                \n",
    "            pickle.dump( stiefel_errors, \n",
    "                        open('./raw_results/stiefel_errors_x{0}_delta{1}_k{2}'.format(i,delta,k), 'wb' ) ) \n",
    "            pickle.dump( spherical_errors, \n",
    "                        open('./raw_results/spherical_errors_x{0}_delta{1}_k{2}'.format(i,delta,k), 'wb' ) ) \n",
    "            pickle.dump( gaussian_errors, \n",
    "                        open('./raw_results/gaussian_errors_x{0}_delta{1}_k{2}'.format(i,delta,k), 'wb' ) ) \n",
    "            \n",
    "            pickle.dump( gaussian_errors, \n",
    "                        open('./raw_results/rademacher_errors_x{0}_delta{1}_k{2}'.format(i,delta,k), 'wb' ) ) \n",
    "            \n",
    "            pickle.dump( stiefel_cos_sim, \n",
    "                        open('./raw_results/stiefel_cos_sim_x{0}_delta{1}_k{2}'.format(i,delta,k), 'wb' ) ) \n",
    "                "
   ]
  },
  {
   "cell_type": "markdown",
   "metadata": {},
   "source": [
    "# comparison with comparison-based estimator"
   ]
  },
  {
   "cell_type": "code",
   "execution_count": 25,
   "metadata": {},
   "outputs": [],
   "source": [
    "xs = [np.array([0]*500), np.array([np.pi/4.]*500) ] \n",
    "\n",
    "deltas = [ 0.1, 0.01, 0.001 ] \n",
    "\n",
    "ks = [ 100,200,300,400,500 ] \n",
    "\n",
    "sparsity = [ 100, np.inf ] \n",
    "\n",
    "reps = 10\n",
    "\n",
    "for i in range(len(xs)): \n",
    "    \n",
    "    x = xs[i]\n",
    "    \n",
    "    truth = (np.array( np.cos(x) ) + np.array( [(x[1] + 2)* np.exp( (x[0]-1)*(x[1]+2) ) \n",
    "                                                 , (x[0] - 1)* np.exp( (x[0]-1)*(x[1]+2) ) ] + [0]*(n-2) ) ) \n",
    "    \n",
    "    for delta in deltas:\n",
    "        \n",
    "        for k in ks: \n",
    "            \n",
    "            for s in sparsity: \n",
    "                \n",
    "                existing_files = [str(name) for name in os.listdir(\"./raw_results/\")] \n",
    "                new_file = 'comp_cos_sim_x{0}_delta{1}_k{2}_sparsity{3}'.format(i, delta, k, s) \n",
    "                \n",
    "#                 print(new_file)\n",
    "#                 print( new_file not in existing_files ) \n",
    "                \n",
    "                if new_file not in existing_files: \n",
    "                \n",
    "                    comp_cos_sim = [] \n",
    "\n",
    "                    for _ in range(reps): \n",
    "\n",
    "                        comp_g = comp( x, delta, k, s ) \n",
    "                        comp_g = comp_g.x \n",
    "\n",
    "                        comp_cos_sim.append( np.dot( comp_g , truth ) \\\n",
    "                                            / np.linalg.norm(comp_g) / np.linalg.norm(truth) )\n",
    "\n",
    "                    with open('./raw_results/comp_cos_sim_x{0}_delta{1}_k{2}_sparsity{3}'.format(i,delta,k,s), \n",
    "                              'wb' ) as f: \n",
    "\n",
    "                        pickle.dump( comp_cos_sim, f ) \n",
    "        \n",
    "        "
   ]
  },
  {
   "cell_type": "markdown",
   "metadata": {},
   "source": [
    "# results of entry-wise estimator"
   ]
  },
  {
   "cell_type": "code",
   "execution_count": 86,
   "metadata": {},
   "outputs": [
    {
     "name": "stdout",
     "output_type": "stream",
     "text": [
      "0 0.1 0.03722295933367299\n",
      "0 0.01 0.0003724136131194778\n",
      "0 0.001 3.724154390898286e-06\n",
      "1 0.1 0.032287116422944684\n",
      "1 0.01 0.0003225329887275817\n",
      "1 0.001 3.225438113869768e-06\n"
     ]
    }
   ],
   "source": [
    "n = 500\n",
    "\n",
    "xs = [np.array([0]*n), np.array([np.pi/4]*n)] \n",
    "\n",
    "deltas = [ 0.1, 0.01, 0.001 ] \n",
    "\n",
    "for i in range(len(xs)): \n",
    "    \n",
    "    x = xs[i]\n",
    "    \n",
    "    truth = (np.array( np.cos(x) ) + np.array( [(x[1] + 2)* np.exp( (x[0]-1)*(x[1]+2) ) \n",
    "                                                 , (x[0] - 1)* np.exp( (x[0]-1)*(x[1]+2) ) ] + [0]*(n-2) ) ) \n",
    "    \n",
    "    for delta in deltas: \n",
    "            \n",
    "        entry_g = entry( x, delta, n =n )  \n",
    "        \n",
    "        entry_wise_errors = np.linalg.norm( entry_g - truth )  \n",
    "        \n",
    "        print(i,delta,entry_wise_errors) \n",
    "                "
   ]
  },
  {
   "cell_type": "code",
   "execution_count": 88,
   "metadata": {},
   "outputs": [
    {
     "name": "stdout",
     "output_type": "stream",
     "text": [
      "0 0.1 0.0002852304664786578 8.27145869150097e-06\n",
      "0 0.01 2.8750228063198523e-06 8.729980460710897e-08\n",
      "0 0.001 2.857123846946423e-08 1.0388179997627509e-09\n",
      "1 0.1 0.0002468521109669915 6.662891121890526e-06\n",
      "1 0.01 2.5112940783269207e-06 1.7601689049969722e-07\n",
      "1 0.001 2.5134881612955318e-08 1.5221019074423716e-09\n"
     ]
    }
   ],
   "source": [
    "\n",
    "xs = [np.array([0]*n), np.array([np.pi/4.]*n) ] \n",
    "\n",
    "deltas = [ 0.1, 0.01, 0.001 ] \n",
    "\n",
    "rep = 10\n",
    "\n",
    "for i in range(len(xs)): \n",
    "    \n",
    "    x = xs[i]\n",
    "    \n",
    "    truth = (np.array( np.cos(x) ) + np.array( [(x[1] + 2)* np.exp( (x[0]-1)*(x[1]+2) ) \n",
    "                                                 , (x[0] - 1)* np.exp( (x[0]-1)*(x[1]+2) ) ] + [0]*(n-2) ) ) \n",
    "        \n",
    "    for delta in deltas: \n",
    "        \n",
    "        res = []\n",
    "            \n",
    "        for _ in range(rep): \n",
    "\n",
    "            stie = stiefel( x, delta, n, n = n ) \n",
    "\n",
    "            res.append( np.linalg.norm( stie - truth )  ) \n",
    "\n",
    "        print(i,delta,np.mean(res), np.std(res) ) "
   ]
  },
  {
   "cell_type": "code",
   "execution_count": null,
   "metadata": {},
   "outputs": [],
   "source": []
  },
  {
   "cell_type": "code",
   "execution_count": null,
   "metadata": {},
   "outputs": [],
   "source": []
  }
 ],
 "metadata": {
  "kernelspec": {
   "display_name": "Python 3",
   "language": "python",
   "name": "python3"
  },
  "language_info": {
   "codemirror_mode": {
    "name": "ipython",
    "version": 3
   },
   "file_extension": ".py",
   "mimetype": "text/x-python",
   "name": "python",
   "nbconvert_exporter": "python",
   "pygments_lexer": "ipython3",
   "version": "3.8.8"
  }
 },
 "nbformat": 4,
 "nbformat_minor": 2
}
