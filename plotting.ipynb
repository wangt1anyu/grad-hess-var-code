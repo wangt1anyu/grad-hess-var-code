{
 "cells": [
  {
   "cell_type": "code",
   "execution_count": 2,
   "metadata": {},
   "outputs": [],
   "source": [
    "import numpy as np \n",
    "\n",
    "from tqdm import * \n",
    "import pickle\n",
    "\n",
    "import matplotlib.pyplot as plt \n",
    "%matplotlib inline "
   ]
  },
  {
   "cell_type": "markdown",
   "metadata": {},
   "source": [
    "# plot gradient comparison with Spherical and Gaussian"
   ]
  },
  {
   "cell_type": "code",
   "execution_count": 3,
   "metadata": {},
   "outputs": [
    {
     "data": {
      "image/png": "[encoded data removed]",
      "text/plain": [
       "<Figure size 432x288 with 1 Axes>"
      ]
     },
     "metadata": {
      "needs_background": "light"
     },
     "output_type": "display_data"
    }
   ],
   "source": [
    "xs = [np.array([0]*500), np.array([np.pi/4.]*500) ] \n",
    "\n",
    "deltas = [ 0.1, 0.01, 0.001 ] \n",
    "\n",
    "ks = [ 100,200,300,400,500 ] \n",
    "\n",
    "reps = 10\n",
    "\n",
    "n = 500 \n",
    "\n",
    "for i in range(len(xs)):\n",
    "    \n",
    "    x = xs[0]\n",
    "    \n",
    "    truth = (np.array( [ np.cos(x) ]*n ) + np.array( [(x[1] + 2)* np.exp( (x[0]-1)*(x[1]+2) ) \n",
    "                                                 , (x[0] - 1)* np.exp( (x[0]-1)*(x[1]+2) ) ] + [0]*(n-2) ) )[0] \n",
    "    \n",
    "    for delta in deltas:\n",
    "        \n",
    "        for k in ks: \n",
    "                \n",
    "            stiefel_errors = pickle.load( \n",
    "                        open('./raw_results/stiefel_errors_x{0}_delta{1}_k{2}'.format(i,delta,k), 'rb' ) ) \n",
    "            spherical_errors = pickle.load( \n",
    "                        open('./raw_results/spherical_errors_x{0}_delta{1}_k{2}'.format(i,delta,k), 'rb' ) ) \n",
    "            gaussian_errors = pickle.load( \n",
    "                        open('./raw_results/gaussian_errors_x{0}_delta{1}_k{2}'.format(i,delta,k), 'rb' ) )   \n",
    "            \n",
    "            rademacher_errors = pickle.load( \n",
    "                        open('./raw_results/rademacher_errors_x{0}_delta{1}_k{2}'.format(i,delta,k), 'rb' ) )   \n",
    "            \n",
    "            plt.rcParams['font.size'] = 14\n",
    "            \n",
    "            plt.scatter( [1]*len(stiefel_errors), stiefel_errors, alpha = 0.4, s = 50 )\n",
    "            \n",
    "            plt.scatter( [2]*len(spherical_errors), spherical_errors, alpha = 0.4, s = 50 )\n",
    "            \n",
    "            plt.scatter( [3]*len(gaussian_errors), gaussian_errors, alpha = 0.4, s = 50 ) \n",
    "            \n",
    "            plt.scatter( [4]*len(rademacher_errors), rademacher_errors, alpha = 0.4, s = 50 ) \n",
    "            \n",
    "            plt.xticks([1,2,3,4], ['Stiefel', 'Spherical', 'Gaussian', 'Rademacher'])\n",
    "            \n",
    "            plt.ylabel('Error')\n",
    "            \n",
    "            plt.tight_layout()\n",
    "            \n",
    "            plt.savefig( './figures/grad_x{0}_delta{1}_k{2}.png'.format(i,delta,k) , dpi = 150 )\n",
    "            \n",
    "            plt.cla()\n",
    "            "
   ]
  },
  {
   "cell_type": "code",
   "execution_count": 15,
   "metadata": {},
   "outputs": [
    {
     "data": {
      "image/png": "[encoded data removed]",
      "text/plain": [
       "<Figure size 432x288 with 1 Axes>"
      ]
     },
     "metadata": {
      "needs_background": "light"
     },
     "output_type": "display_data"
    }
   ],
   "source": [
    "xs = [np.array([0]*500), np.array([np.pi/4.]*500) ] \n",
    "\n",
    "deltas = [ 0.1, 0.01, 0.001 ] \n",
    "\n",
    "ks = [ 100,200,300,400,500 ] \n",
    "\n",
    "sparsity = [ 100, np.inf ] \n",
    "\n",
    "reps = 10\n",
    "\n",
    "n = 500 \n",
    "\n",
    "for i in range(len(xs)): \n",
    "    \n",
    "    x = xs[0]\n",
    "    \n",
    "    truth = (np.array( [ np.cos(x) ]*n ) + np.array( [(x[1] + 2)* np.exp( (x[0]-1)*(x[1]+2) ) \n",
    "                                                 , (x[0] - 1)* np.exp( (x[0]-1)*(x[1]+2) ) ] + [0]*(n-2) ) )[0] \n",
    "    \n",
    "    for delta in deltas: \n",
    "        \n",
    "        for k in ks: \n",
    "            \n",
    "#             for s in sparsity: \n",
    "                \n",
    "            stiefel_errors = pickle.load( \n",
    "                open('./raw_results/stiefel_cos_sim_x{0}_delta{1}_k{2}'.format(i,delta,k), 'rb' ) ) \n",
    "\n",
    "\n",
    "            comp_errors1 = pickle.load( \n",
    "                open('./raw_results/comp_cos_sim_x{0}_delta{1}_k{2}_sparsity100'.format(i,delta,k), 'rb' ) ) \n",
    "\n",
    "            comp_errors2 = pickle.load( \n",
    "                open('./raw_results/comp_cos_sim_x{0}_delta{1}_k{2}_sparsityinf'.format(i,delta,k), 'rb' ) ) \n",
    "\n",
    "            plt.rcParams['font.size'] = 14\n",
    "\n",
    "            plt.scatter( [1]*len(stiefel_errors), stiefel_errors, alpha = 0.4, s = 50 )\n",
    "\n",
    "            plt.scatter( [2]*len(comp_errors1), comp_errors1, alpha = 0.4, s = 50 )\n",
    "\n",
    "            plt.scatter( [3]*len(comp_errors2), comp_errors2, alpha = 0.4, s = 50 ) \n",
    "\n",
    "            plt.xticks([1,2,3], ['Stiefel', 'Comp-based (sparse)', 'Comp-based']) \n",
    "\n",
    "            plt.ylabel('Cosine Similarity') \n",
    "\n",
    "            plt.tight_layout() \n",
    "\n",
    "            plt.savefig( './figures/grad_comp_x{0}_delta{1}_k{2}.png'.format(i,delta,k) , dpi = 150 )\n",
    "\n",
    "            plt.cla()"
   ]
  },
  {
   "cell_type": "markdown",
   "metadata": {},
   "source": [
    "# plot Hessian comparison with Spherical and Gaussian"
   ]
  },
  {
   "cell_type": "code",
   "execution_count": 14,
   "metadata": {},
   "outputs": [
    {
     "data": {
      "image/png": "[encoded data removed]",
      "text/plain": [
       "<Figure size 432x288 with 1 Axes>"
      ]
     },
     "metadata": {
      "needs_background": "light"
     },
     "output_type": "display_data"
    }
   ],
   "source": [
    "n = 100\n",
    "\n",
    "xs = [np.array([0]*n), np.array([np.pi/4.]*n), -np.array([np.pi/2.]*n) ] \n",
    "locs = ['0', '0.25pi', 'n0.5pi']\n",
    "\n",
    "deltas = [ 0.1, 0.01, 0.001 ] \n",
    "\n",
    "ks = [ 20, 40, 60, 80, 100 ] \n",
    "\n",
    "reps = 10\n",
    "\n",
    "for i in range(len(xs)):\n",
    "    \n",
    "    x = xs[i]\n",
    "    loc = locs[i]\n",
    "        \n",
    "    for delta in deltas: \n",
    "        \n",
    "        for k in ks: \n",
    "                \n",
    "            stiefel_errors = pickle.load( \n",
    "                        open('./raw_results/stiefel_hess_errors_x{0}_delta{1}_k{2}'.format(loc,delta,k), 'rb' ) ) \n",
    "            spherical_errors = pickle.load( \n",
    "                        open('./raw_results/spherical_hess_errors_x{0}_delta{1}_k{2}'.format(loc,delta,k), 'rb' ) ) \n",
    "            gaussian_errors = pickle.load( \n",
    "                        open('./raw_results/gaussian_hess_errors_x{0}_delta{1}_k{2}'.format(loc,delta,k), 'rb' ) ) \n",
    "            \n",
    "            plt.rcParams['font.size'] = 14 \n",
    "            \n",
    "            plt.scatter( [1]*len(stiefel_errors), stiefel_errors, alpha = 0.4, s = 50 ) \n",
    "            \n",
    "            plt.scatter( [2]*len(spherical_errors), spherical_errors, alpha = 0.4, s = 50 ) \n",
    "            \n",
    "            plt.scatter( [3]*len(gaussian_errors), gaussian_errors, alpha = 0.4, s = 50 ) \n",
    "            \n",
    "            plt.xticks([1,2,3], ['Stiefel', 'Spherical', 'Gaussian']) \n",
    "            \n",
    "            plt.ylabel('Error') \n",
    "                        \n",
    "            plt.tight_layout() \n",
    "                        \n",
    "            plt.savefig( './figures/hess_x{0}_delta{1}_k{2}.png'.format(loc,delta,k) , dpi = 150 )\n",
    "                    \n",
    "            plt.cla() \n",
    "            "
   ]
  },
  {
   "cell_type": "code",
   "execution_count": null,
   "metadata": {},
   "outputs": [],
   "source": []
  },
  {
   "cell_type": "code",
   "execution_count": null,
   "metadata": {},
   "outputs": [],
   "source": []
  },
  {
   "cell_type": "code",
   "execution_count": null,
   "metadata": {},
   "outputs": [],
   "source": []
  }
 ],
 "metadata": {
  "kernelspec": {
   "display_name": "Python 3",
   "language": "python",
   "name": "python3"
  },
  "language_info": {
   "codemirror_mode": {
    "name": "ipython",
    "version": 3
   },
   "file_extension": ".py",
   "mimetype": "text/x-python",
   "name": "python",
   "nbconvert_exporter": "python",
   "pygments_lexer": "ipython3",
   "version": "3.8.8"
  }
 },
 "nbformat": 4,
 "nbformat_minor": 2
}
