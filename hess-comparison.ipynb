{
 "cells": [
  {
   "cell_type": "code",
   "execution_count": 1,
   "metadata": {},
   "outputs": [],
   "source": [
    "import numpy as np \n",
    "from scipy import optimize\n",
    "from scipy.optimize import NonlinearConstraint\n",
    "from scipy.optimize import minimize\n",
    "import os\n",
    "\n",
    "from tqdm import * \n",
    "import pickle \n",
    "\n",
    "import matplotlib.pyplot as plt \n",
    "%matplotlib inline "
   ]
  },
  {
   "cell_type": "code",
   "execution_count": 2,
   "metadata": {},
   "outputs": [],
   "source": [
    "def func(x): \n",
    "    \n",
    "    return np.sum( np.sin(x) ) + np.exp((x[0]-1) * (x[1]+2))  "
   ]
  },
  {
   "cell_type": "code",
   "execution_count": 3,
   "metadata": {},
   "outputs": [],
   "source": [
    "def sample_stiefel(n,k): \n",
    "    \n",
    "    U = np.random.normal( 0, 1, (n, k) ) \n",
    "    \n",
    "    L,S,R = np.linalg.svd(np.matmul(U.T, U))\n",
    "    \n",
    "    U_ = np.matmul( np.matmul(L, np.diag( S**(-1./2) ) ), R )\n",
    "        \n",
    "    return np.matmul(U,U_)\n",
    "\n",
    "\n",
    "# def sample_stiefel(n,k): \n",
    "    \n",
    "#     A = np.random.normal( 0, 1, (n, k) ) \n",
    "    \n",
    "#     def normalize(v): \n",
    "#         return v / np.sqrt(v.dot(v)) \n",
    "\n",
    "#     n = A.shape[1] \n",
    "\n",
    "#     A[:, 0] = normalize(A[:, 0])  \n",
    "\n",
    "#     for i in range(1, n): \n",
    "#         Ai = A[:, i] \n",
    "#         for j in range(0, i): \n",
    "#             Aj = A[:, j] \n",
    "#             t = Ai.dot(Aj) \n",
    "#             Ai = Ai - t * Aj \n",
    "#         A[:, i] = normalize(Ai) \n",
    "        \n",
    "#     return A "
   ]
  },
  {
   "cell_type": "markdown",
   "metadata": {},
   "source": [
    "# our method, Stiefel's sampling"
   ]
  },
  {
   "cell_type": "code",
   "execution_count": 4,
   "metadata": {},
   "outputs": [],
   "source": [
    "def stiefel( x, delta, k, n = 100 ): \n",
    "\n",
    "\n",
    "    V = sample_stiefel(n,k) \n",
    "    W = sample_stiefel(n,k) \n",
    "    \n",
    "    H = 0\n",
    "    for i in range(k): \n",
    "        for j in range(k): \n",
    "            \n",
    "            H = H + n**2/delta**2/8 * ( func( x + delta * V[:,i] + delta * W[:,j]) \\\n",
    "                            - func( x - delta * V[:,i] + delta * W[:,j]) \\\n",
    "                            - func( x + delta * V[:,i] - delta * W[:,j]) \\\n",
    "                            + func( x - delta * V[:,i] - delta * W[:,j])) \\\n",
    "                    * ( np.outer(V[:,i], W[:,j]) + np.outer( W[:,j], V[:,i]) ) \n",
    "            \n",
    "    H = H / k**2 \n",
    "    \n",
    "    return H "
   ]
  },
  {
   "cell_type": "markdown",
   "metadata": {},
   "source": [
    "# spherical method"
   ]
  },
  {
   "cell_type": "code",
   "execution_count": 5,
   "metadata": {},
   "outputs": [],
   "source": [
    "def spherical( x, delta, k, n = 100 ): \n",
    "   \n",
    "    H = 0\n",
    "    \n",
    "    for _ in range(k):\n",
    "        for _ in range(k):\n",
    "            V = sample_stiefel(n,1)[:,0] \n",
    "            W = sample_stiefel(n,1)[:,0] \n",
    "            \n",
    "            H = H + n**2/delta**2/8 * ( func( x + delta * V + delta * W) \\\n",
    "                            - func( x - delta * V + delta * W) \\\n",
    "                            - func( x + delta * V - delta * W) \\\n",
    "                            + func( x - delta * V - delta * W)) \\\n",
    "                    * ( np.outer(V, W) + np.outer( W, V) ) \n",
    "\n",
    "    H = H / k**2 \n",
    "    \n",
    "    return H "
   ]
  },
  {
   "cell_type": "markdown",
   "metadata": {},
   "source": [
    "# gaussian method"
   ]
  },
  {
   "cell_type": "code",
   "execution_count": 6,
   "metadata": {},
   "outputs": [],
   "source": [
    "def gaussian( x, delta, k, n = 100): \n",
    "    \n",
    "    H = 0 \n",
    "    \n",
    "    for _ in range(k**2): \n",
    "        \n",
    "        V = np.random.normal(0,1,n) \n",
    "            \n",
    "        H = H + n/2/delta**2 * ( func( x + delta * V / np.sqrt(n) ) \\\n",
    "                            - 2*func( x ) \\\n",
    "                            + func( x - delta * V / np.sqrt(n) ) ) \\\n",
    "                    * ( np.outer(V, V) - np.identity(n) ) \n",
    "\n",
    "    H = H / k**2 \n",
    "    \n",
    "    return H "
   ]
  },
  {
   "cell_type": "markdown",
   "metadata": {},
   "source": [
    "# entry-wise"
   ]
  },
  {
   "cell_type": "code",
   "execution_count": 7,
   "metadata": {},
   "outputs": [],
   "source": [
    "def entry( x, delta, n = 100 ): \n",
    "    \n",
    "    H = np.zeros((n,n))\n",
    "    \n",
    "    for i in range(n):\n",
    "        for j in range(n):\n",
    "            ei = np.zeros(n)\n",
    "            ei[i] = 1\n",
    "            ej = np.zeros(n)\n",
    "            ej[j] = 1\n",
    "            \n",
    "            H[i,j] = 1./4/delta**2 * ( func( x + delta * ei + delta * ej ) \\\n",
    "                            - func( x + delta * ei - delta * ej ) - func( x - delta * ei + delta * ej ) \\\n",
    "                            + func( x - delta * ei - delta * ej ) ) \n",
    "    \n",
    "    return H "
   ]
  },
  {
   "cell_type": "code",
   "execution_count": 8,
   "metadata": {},
   "outputs": [],
   "source": [
    "def truth(x, n = 100): \n",
    "    \n",
    "    H = np.diag( -np.sin(x) ) \n",
    "    C = np.exp((x[0] - 1)*(x[1] + 2)) \n",
    "    H[0,0] = H[0,0] + (x[1] + 2)**2 * C \n",
    "    H[1,1] = H[1,1] + (x[0] - 1)**2 * C \n",
    "    \n",
    "    H[0,1] = C + (x[0] - 1)* (x[1] + 2) * C\n",
    "    H[1,0] = C + (x[0] - 1)* (x[1] + 2) * C\n",
    "    \n",
    "    return H"
   ]
  },
  {
   "cell_type": "markdown",
   "metadata": {},
   "source": [
    "# following block for getting estimations and computing errrors"
   ]
  },
  {
   "cell_type": "code",
   "execution_count": null,
   "metadata": {},
   "outputs": [],
   "source": [
    "n = 100 \n",
    "\n",
    "xs = [np.array([0]*n), np.array([np.pi/4.]*n), -np.array([np.pi/2.]*n) ] \n",
    "locs = ['0', '0.25pi', 'n0.5pi'] \n",
    "\n",
    "deltas = [ 0.1 , 0.01, 0.001 ] \n",
    "\n",
    "ks = [ 20,40,60,80,100 ] \n",
    "# ks = [20]\n",
    "\n",
    "reps = 10 \n",
    "\n",
    "for i in range(len(xs)):\n",
    "    \n",
    "    x = xs[i]\n",
    "    \n",
    "    loc = locs[i]\n",
    "    \n",
    "    H = truth(x,n) \n",
    "    \n",
    "    for delta in deltas: \n",
    "        \n",
    "        for k in ks: \n",
    "            \n",
    "            stiefel_errors = [] \n",
    "            spherical_errors = [] \n",
    "            gaussian_errors = [] \n",
    "                        \n",
    "            for _ in range(reps):\n",
    "                \n",
    "                stiefel_H = stiefel( x, delta, k , n) \n",
    "                spherical_H = spherical( x, delta, k , n) \n",
    "                gaussian_H = gaussian( x, delta, k , n) \n",
    "                \n",
    "                stiefel_errors.append( np.sqrt( np.sum( ( np.linalg.svd( stiefel_H - H )[1] )**2 ) ) )\n",
    "                spherical_errors.append( np.sqrt( np.sum( (np.linalg.svd( spherical_H - H )[1] )**2 ) ) )\n",
    "                gaussian_errors.append( np.sqrt( np.sum( (np.linalg.svd( gaussian_H - H )[1] )**2 ) ) )\n",
    "                \n",
    "#             print(k, np.mean( stiefel_errors ), np.mean( spherical_errors ), np.mean( gaussian_errors ) )\n",
    "                \n",
    "            pickle.dump( stiefel_errors, \n",
    "                        open('./raw_results/stiefel_hess_errors_x{0}_delta{1}_k{2}'.format(loc,delta,k), 'wb' ) ) \n",
    "            pickle.dump( spherical_errors, \n",
    "                        open('./raw_results/spherical_hess_errors_x{0}_delta{1}_k{2}'.format(loc,delta,k), 'wb' ) ) \n",
    "            pickle.dump( gaussian_errors, \n",
    "                        open('./raw_results/gaussian_hess_errors_x{0}_delta{1}_k{2}'.format(loc,delta,k), 'wb' ) ) "
   ]
  },
  {
   "cell_type": "code",
   "execution_count": null,
   "metadata": {},
   "outputs": [],
   "source": []
  },
  {
   "cell_type": "markdown",
   "metadata": {},
   "source": [
    "# results of entry-wise estimator"
   ]
  },
  {
   "cell_type": "code",
   "execution_count": 23,
   "metadata": {},
   "outputs": [
    {
     "name": "stdout",
     "output_type": "stream",
     "text": [
      "0 0.1 4.400206672166374\n",
      "0 0.01 0.04328676449516043\n",
      "0 0.001 0.00043279415493315703\n",
      "1 0.1 0.11649030818392277\n",
      "1 0.01 0.001153473802530225\n",
      "1 0.001 1.153206002120819e-05\n"
     ]
    }
   ],
   "source": [
    "n = 100\n",
    "\n",
    "xs = [np.array([np.pi/2.]*n), np.array([np.pi/4.]*n) ] \n",
    "\n",
    "deltas = [ 0.1, 0.01, 0.001 ] \n",
    "\n",
    "reps = 10 \n",
    "\n",
    "for i in range(len(xs)): \n",
    "    \n",
    "    x = xs[i]\n",
    "    \n",
    "    H = truth(x, n)\n",
    "    \n",
    "    for delta in deltas: \n",
    "            \n",
    "        entry_H = entry( x, delta, n ) \n",
    "        \n",
    "        entry_wise_errors =  np.max( np.linalg.svd( entry_H - H )[1] ) \n",
    "#         np.linalg.norm( entry_H - H, ord = 2 )  \n",
    "        \n",
    "        print(i,delta,entry_wise_errors) \n",
    "                \n",
    "                \n",
    "#         pickle.dump( entry_wise_errors, \n",
    "#                 open('./raw_results/entry_wise_errors_x{0}_delta{1}'.format(i,delta), 'wb' ) ) \n",
    "                "
   ]
  },
  {
   "cell_type": "code",
   "execution_count": 37,
   "metadata": {},
   "outputs": [
    {
     "name": "stdout",
     "output_type": "stream",
     "text": [
      "0 0.1 0.1673588270866899 0.02046914059577767\n",
      "0 0.01 0.0015556226556718575 8.285270278422251e-05\n",
      "0 0.001 1.5284137412673218e-05 1.4054028109155922e-06\n",
      "1 0.1 0.0037926729296291007 0.00041814693410627653\n",
      "1 0.01 3.9098614124382936e-05 4.846701218944252e-06\n",
      "1 0.001 3.9784717212638223e-07 4.259605873196608e-08\n"
     ]
    }
   ],
   "source": [
    "n = 100\n",
    "\n",
    "xs = [np.array([np.pi/2.]*n), np.array([np.pi/4.]*n) ] \n",
    "\n",
    "deltas = [ 0.1, 0.01, 0.001 ] \n",
    "\n",
    "reps = 10\n",
    "\n",
    "for i in range(len(xs)): \n",
    "    \n",
    "    x = xs[i]\n",
    "    \n",
    "    H = truth(x, n)\n",
    "    \n",
    "    for delta in deltas: \n",
    "        \n",
    "        res = []\n",
    "        \n",
    "        for _ in range(reps): \n",
    "            \n",
    "            stiefel_H = stiefel( x, delta, n, n )  \n",
    "\n",
    "            stiefel_errors = np.max( np.linalg.svd( stiefel_H - H )[1] )\n",
    "        \n",
    "            res.append(stiefel_errors) \n",
    "\n",
    "#         stiefel_errors = pickle.load( \n",
    "            \n",
    "#             open( './raw_results/stiefel_hess_errors_x{0}_delta{1}_k100'.format(i,delta) , 'rb') )\n",
    "        \n",
    "        print(i,delta, np.mean(res), np.std(res) ) "
   ]
  },
  {
   "cell_type": "code",
   "execution_count": null,
   "metadata": {},
   "outputs": [],
   "source": []
  },
  {
   "cell_type": "code",
   "execution_count": null,
   "metadata": {},
   "outputs": [],
   "source": []
  },
  {
   "cell_type": "code",
   "execution_count": null,
   "metadata": {},
   "outputs": [],
   "source": []
  }
 ],
 "metadata": {
  "kernelspec": {
   "display_name": "Python 3",
   "language": "python",
   "name": "python3"
  },
  "language_info": {
   "codemirror_mode": {
    "name": "ipython",
    "version": 3
   },
   "file_extension": ".py",
   "mimetype": "text/x-python",
   "name": "python",
   "nbconvert_exporter": "python",
   "pygments_lexer": "ipython3",
   "version": "3.7.4"
  }
 },
 "nbformat": 4,
 "nbformat_minor": 2
}
