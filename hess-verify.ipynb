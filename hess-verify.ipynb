{
 "cells": [
  {
   "cell_type": "code",
   "execution_count": 3,
   "metadata": {},
   "outputs": [],
   "source": [
    "import numpy as np \n",
    "from scipy import optimize\n",
    "from scipy.optimize import NonlinearConstraint\n",
    "from scipy.optimize import minimize\n",
    "import os\n",
    "\n",
    "from tqdm import * \n",
    "import pickle\n",
    "\n",
    "import matplotlib.pyplot as plt \n",
    "%matplotlib inline "
   ]
  },
  {
   "cell_type": "code",
   "execution_count": 4,
   "metadata": {},
   "outputs": [],
   "source": [
    "def func(x): \n",
    "    \n",
    "    return np.sum( np.sin(x) ) + np.exp((x[0]-1) * (x[1]+2))  "
   ]
  },
  {
   "cell_type": "code",
   "execution_count": 5,
   "metadata": {},
   "outputs": [],
   "source": [
    "def sample_stiefel(n,k): \n",
    "    \n",
    "    A = np.random.normal( 0, 1, (n, k) ) \n",
    "    \n",
    "    def normalize(v): \n",
    "        return v / np.sqrt(v.dot(v)) \n",
    "\n",
    "    n = A.shape[1] \n",
    "\n",
    "    A[:, 0] = normalize(A[:, 0])  \n",
    "\n",
    "    for i in range(1, n): \n",
    "        Ai = A[:, i] \n",
    "        for j in range(0, i): \n",
    "            Aj = A[:, j] \n",
    "            t = Ai.dot(Aj) \n",
    "            Ai = Ai - t * Aj \n",
    "        A[:, i] = normalize(Ai) \n",
    "        \n",
    "    return A "
   ]
  },
  {
   "cell_type": "markdown",
   "metadata": {},
   "source": [
    "# our method, Stiefel's sampling"
   ]
  },
  {
   "cell_type": "code",
   "execution_count": 6,
   "metadata": {},
   "outputs": [],
   "source": [
    "def stiefel( x, delta, k, n = 500 ): \n",
    "\n",
    "\n",
    "    V = sample_stiefel(n,k) \n",
    "\n",
    "    gs = [ n/delta/2 * ( func( x + delta * V[:,i]) - func( x - delta * V[:,i]) ) * V[:,i] for i in range(k) ] \n",
    "\n",
    "    g = np.mean( np.array( gs ) , axis = 0 ) \n",
    "    \n",
    "    return g"
   ]
  },
  {
   "cell_type": "code",
   "execution_count": 17,
   "metadata": {},
   "outputs": [],
   "source": [
    "def truth(x, n = 100): \n",
    "    \n",
    "    H = np.diag( -np.sin(x) )\n",
    "    C = np.exp((x[0] - 1)*(x[1] + 2))\n",
    "    H[0,0] = H[0,0] + (x[1] + 2)**2 * C\n",
    "    H[1,1] = H[1,1] + (x[0] - 1)**2 * C\n",
    "    \n",
    "    H[0,1] = C + (x[0] - 1)* (x[1] + 2) * C\n",
    "    H[1,0] = C + (x[0] - 1)* (x[1] + 2) * C\n",
    "    \n",
    "    return H"
   ]
  },
  {
   "cell_type": "code",
   "execution_count": 56,
   "metadata": {},
   "outputs": [],
   "source": [
    "n = 100; \n",
    "\n",
    "xs = [ np.array([0]*n), np.array([np.pi/4.]*n), -np.array([np.pi/2.]*n) ] \n",
    "\n",
    "locs = ['0', '0.25pi', 'n0.5pi']\n",
    "\n",
    "rep = 10 \n",
    "\n",
    "deltas = [ 0.1, 0.01, 0.001 ] \n",
    "\n",
    "for m in range(len(xs)): \n",
    "\n",
    "    x = xs[m]\n",
    "\n",
    "    H_true = truth(x)\n",
    "\n",
    "    for delta in deltas: \n",
    "        \n",
    "        res = []\n",
    "            \n",
    "        for _ in range(rep): \n",
    "\n",
    "            res_inner = [] \n",
    "\n",
    "            for k in range(1,n+1): \n",
    "\n",
    "                V = sample_stiefel(n,k) \n",
    "                W = sample_stiefel(n,k) \n",
    "\n",
    "                H = 0\n",
    "                for i in range(k):\n",
    "                    for j in range(k): \n",
    "\n",
    "                        H = H + n**2/delta**2/8 * ( func( x + delta * V[:,i] + delta * W[:,j]) \\\n",
    "                                        - func( x - delta * V[:,i] + delta * W[:,j]) \\\n",
    "                                        - func( x + delta * V[:,i] - delta * W[:,j]) \\\n",
    "                                        + func( x - delta * V[:,i] - delta * W[:,j])) \\\n",
    "                                * ( np.outer(V[:,i], W[:,j]) + np.outer( W[:,j], V[:,i]) ) \n",
    "\n",
    "                H = H / k**2 \n",
    "                \n",
    "                error = np.sqrt( np.sum( ( np.linalg.svd( H - H_true )[1] )**2 ) ) \n",
    "                \n",
    "                res_inner.append(error) \n",
    "                \n",
    "            res.append(res_inner) \n",
    "\n",
    "        pickle.dump( res, open('./raw_results/for_trend_hess_x{0}_delta{1}'.format(locs[m],delta), 'wb' ) ) \n",
    "            \n",
    "    "
   ]
  },
  {
   "cell_type": "markdown",
   "metadata": {},
   "source": [
    "# plotting"
   ]
  },
  {
   "cell_type": "code",
   "execution_count": 55,
   "metadata": {
    "scrolled": false
   },
   "outputs": [
    {
     "data": {
      "image/png": "[encoded data removed]",
      "text/plain": [
       "<Figure size 432x288 with 1 Axes>"
      ]
     },
     "metadata": {
      "needs_background": "light"
     },
     "output_type": "display_data"
    }
   ],
   "source": [
    "n = 100; \n",
    "\n",
    "xs = [ np.array([0]*n), np.array([np.pi/4.]*n), -np.array([np.pi/2.]*n) ] \n",
    "\n",
    "locs = ['0', '0.25pi', 'n0.5pi']\n",
    "\n",
    "deltas = [ 0.1, 0.01, 0.001 ] \n",
    "\n",
    "for m in range(len(xs)): \n",
    "    \n",
    "    x = xs[m]\n",
    "    \n",
    "    H = truth(x)\n",
    "    \n",
    "    for delta in deltas: \n",
    "            \n",
    "        res = pickle.load( open('./raw_results/for_trend_hess_x{0}_delta{1}'.format(locs[m],delta), 'rb' ) )\n",
    "        \n",
    "#         error = [] \n",
    "\n",
    "#         for k in range(n): \n",
    "#             error.append( np.max(np.linalg.svd( res[ k ] - H )[1] ) ) \n",
    "            \n",
    "#         theory_var_curve = ( np.array([np.linalg.norm( H, ord = 'fro' )**2 *(n**2/k**2 - 1) for k in range(1,n+1) ] )\n",
    "#                    +\\\n",
    "#             np.array([delta**2 * np.max(np.linalg.svd( H )[1]) *( (n**4 - n**2*k**2) / (k**2) ) for k in range(1,n+1) ] ) \\\n",
    "#                    +\\\n",
    "#             delta**4 * n**4 / np.array( range(1,n+1) )**2 ) \n",
    "        \n",
    "        error = np.mean(res,axis = 0) \n",
    "        std = 10 * np.std(res,axis = 0) \n",
    "\n",
    "        err, = plt.plot( np.log10( error ), label = 'lg of error' ) \n",
    "        \n",
    "        plt.fill_between(range(n), np.log10( error ) , \n",
    "                         np.log10( error + std ) , alpha = 0.4)\n",
    "        \n",
    "        var_bound, = plt.plot( np.log10( np.array( theory_var_curve ) )[:], linestyle = 'dashed', color = 'red', \n",
    "                              label = 'lg of var. bound' ) \n",
    "        \n",
    "#         plt.ticklabel_format(axis='both', style='sci', scilimits=(4,4)) \n",
    "\n",
    "        plt.xlabel('$k$') \n",
    "        # plt.ylabel('log of error or sqrt. of variance') \n",
    "\n",
    "        plt.legend(handles = [err,var_bound], loc = 'lower left') \n",
    "\n",
    "        plt.tight_layout() \n",
    "#         plt.show() \n",
    "\n",
    "        plt.savefig('./figures/var_trend_hess_x{0}_delta{1}.png'.format(m,delta), dpi = 150) \n",
    "    \n",
    "        plt.cla() \n",
    "    \n",
    "        \n",
    "#         plt.rcPara"
   ]
  },
  {
   "cell_type": "code",
   "execution_count": null,
   "metadata": {},
   "outputs": [],
   "source": []
  },
  {
   "cell_type": "code",
   "execution_count": null,
   "metadata": {},
   "outputs": [],
   "source": []
  },
  {
   "cell_type": "code",
   "execution_count": null,
   "metadata": {},
   "outputs": [],
   "source": []
  }
 ],
 "metadata": {
  "kernelspec": {
   "display_name": "Python 3",
   "language": "python",
   "name": "python3"
  },
  "language_info": {
   "codemirror_mode": {
    "name": "ipython",
    "version": 3
   },
   "file_extension": ".py",
   "mimetype": "text/x-python",
   "name": "python",
   "nbconvert_exporter": "python",
   "pygments_lexer": "ipython3",
   "version": "3.7.4"
  }
 },
 "nbformat": 4,
 "nbformat_minor": 2
}
